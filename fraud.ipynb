{
 "cells": [
  {
   "metadata": {},
   "cell_type": "markdown",
   "source": [
    "**Fraud Detection Model - Final Report**\n",
    "\n",
    "Submitted by: Adarsh Kumar Pandey"
   ],
   "id": "188348e5cd387727"
  },
  {
   "metadata": {},
   "cell_type": "markdown",
   "source": [
    "**Introduction** :\n",
    "This notebook presents a machine learning model to proactively detect fraudulent transactions. The entire process, from data cleaning to model deployment and evaluation, is documented below, answering all the key questions as per the project brief."
   ],
   "id": "ce507b31e0d50ccb"
  },
  {
   "cell_type": "code",
   "id": "initial_id",
   "metadata": {
    "collapsed": true,
    "jupyter": {
     "outputs_hidden": true
    },
    "ExecuteTime": {
     "end_time": "2025-07-18T05:50:31.633847Z",
     "start_time": "2025-07-18T05:50:31.625122Z"
    }
   },
   "source": [
    "import numpy as np\n",
    "import pandas as pd"
   ],
   "outputs": [],
   "execution_count": 57
  },
  {
   "cell_type": "code",
   "id": "a9605c1359a74f32",
   "metadata": {
    "ExecuteTime": {
     "end_time": "2025-07-18T05:50:38.702835Z",
     "start_time": "2025-07-18T05:50:31.666751Z"
    }
   },
   "source": [
    "data = pd.read_csv('Fraud.csv')\n",
    "data.head()"
   ],
   "outputs": [
    {
     "data": {
      "text/plain": [
       "   step      type    amount     nameOrig  oldbalanceOrg  newbalanceOrig  \\\n",
       "0     1   PAYMENT   9839.64  C1231006815       170136.0       160296.36   \n",
       "1     1   PAYMENT   1864.28  C1666544295        21249.0        19384.72   \n",
       "2     1  TRANSFER    181.00  C1305486145          181.0            0.00   \n",
       "3     1  CASH_OUT    181.00   C840083671          181.0            0.00   \n",
       "4     1   PAYMENT  11668.14  C2048537720        41554.0        29885.86   \n",
       "\n",
       "      nameDest  oldbalanceDest  newbalanceDest  isFraud  isFlaggedFraud  \n",
       "0  M1979787155             0.0             0.0        0               0  \n",
       "1  M2044282225             0.0             0.0        0               0  \n",
       "2   C553264065             0.0             0.0        1               0  \n",
       "3    C38997010         21182.0             0.0        1               0  \n",
       "4  M1230701703             0.0             0.0        0               0  "
      ],
      "text/html": [
       "<div>\n",
       "<style scoped>\n",
       "    .dataframe tbody tr th:only-of-type {\n",
       "        vertical-align: middle;\n",
       "    }\n",
       "\n",
       "    .dataframe tbody tr th {\n",
       "        vertical-align: top;\n",
       "    }\n",
       "\n",
       "    .dataframe thead th {\n",
       "        text-align: right;\n",
       "    }\n",
       "</style>\n",
       "<table border=\"1\" class=\"dataframe\">\n",
       "  <thead>\n",
       "    <tr style=\"text-align: right;\">\n",
       "      <th></th>\n",
       "      <th>step</th>\n",
       "      <th>type</th>\n",
       "      <th>amount</th>\n",
       "      <th>nameOrig</th>\n",
       "      <th>oldbalanceOrg</th>\n",
       "      <th>newbalanceOrig</th>\n",
       "      <th>nameDest</th>\n",
       "      <th>oldbalanceDest</th>\n",
       "      <th>newbalanceDest</th>\n",
       "      <th>isFraud</th>\n",
       "      <th>isFlaggedFraud</th>\n",
       "    </tr>\n",
       "  </thead>\n",
       "  <tbody>\n",
       "    <tr>\n",
       "      <th>0</th>\n",
       "      <td>1</td>\n",
       "      <td>PAYMENT</td>\n",
       "      <td>9839.64</td>\n",
       "      <td>C1231006815</td>\n",
       "      <td>170136.0</td>\n",
       "      <td>160296.36</td>\n",
       "      <td>M1979787155</td>\n",
       "      <td>0.0</td>\n",
       "      <td>0.0</td>\n",
       "      <td>0</td>\n",
       "      <td>0</td>\n",
       "    </tr>\n",
       "    <tr>\n",
       "      <th>1</th>\n",
       "      <td>1</td>\n",
       "      <td>PAYMENT</td>\n",
       "      <td>1864.28</td>\n",
       "      <td>C1666544295</td>\n",
       "      <td>21249.0</td>\n",
       "      <td>19384.72</td>\n",
       "      <td>M2044282225</td>\n",
       "      <td>0.0</td>\n",
       "      <td>0.0</td>\n",
       "      <td>0</td>\n",
       "      <td>0</td>\n",
       "    </tr>\n",
       "    <tr>\n",
       "      <th>2</th>\n",
       "      <td>1</td>\n",
       "      <td>TRANSFER</td>\n",
       "      <td>181.00</td>\n",
       "      <td>C1305486145</td>\n",
       "      <td>181.0</td>\n",
       "      <td>0.00</td>\n",
       "      <td>C553264065</td>\n",
       "      <td>0.0</td>\n",
       "      <td>0.0</td>\n",
       "      <td>1</td>\n",
       "      <td>0</td>\n",
       "    </tr>\n",
       "    <tr>\n",
       "      <th>3</th>\n",
       "      <td>1</td>\n",
       "      <td>CASH_OUT</td>\n",
       "      <td>181.00</td>\n",
       "      <td>C840083671</td>\n",
       "      <td>181.0</td>\n",
       "      <td>0.00</td>\n",
       "      <td>C38997010</td>\n",
       "      <td>21182.0</td>\n",
       "      <td>0.0</td>\n",
       "      <td>1</td>\n",
       "      <td>0</td>\n",
       "    </tr>\n",
       "    <tr>\n",
       "      <th>4</th>\n",
       "      <td>1</td>\n",
       "      <td>PAYMENT</td>\n",
       "      <td>11668.14</td>\n",
       "      <td>C2048537720</td>\n",
       "      <td>41554.0</td>\n",
       "      <td>29885.86</td>\n",
       "      <td>M1230701703</td>\n",
       "      <td>0.0</td>\n",
       "      <td>0.0</td>\n",
       "      <td>0</td>\n",
       "      <td>0</td>\n",
       "    </tr>\n",
       "  </tbody>\n",
       "</table>\n",
       "</div>"
      ]
     },
     "execution_count": 58,
     "metadata": {},
     "output_type": "execute_result"
    }
   ],
   "execution_count": 58
  },
  {
   "metadata": {},
   "cell_type": "markdown",
   "source": [
    "**Q1. Data cleaning including missing values, outliers and multi-collinearity.\n",
    "Answer:**\n",
    "\n",
    "The data cleaning process involved the following steps:\n",
    "\n",
    "**Missing Values**: The dataset was first checked for any missing values using data.isnull().sum(). It was found that there were no missing values in any of the columns.\n",
    "\n",
    "**Irrelevant Columns:** The columns nameOrig and nameDest were dropped as they are unique identifiers and do not provide any predictive power for a general model.\n",
    "\n",
    "**Categorical Data:** The type column, which is categorical, was converted into a numerical format using one-hot encoding.\n",
    "\n",
    "**Outliers:** The data was checked for outliers using data.describe(). While significant outliers were present, especially in the amount column, they were not removed. This is because fraudulent transactions themselves are often outliers (e.g., an unusually large transfer). Removing them could lead to the model losing valuable information for detecting fraud.\n",
    "\n",
    "**Multi-collinearity**: The Random Forest model, which was chosen for this task, is robust and not significantly affected by multi-collinearity. Therefore, no specific steps were taken to remove correlated features like oldbalanceOrg and newbalanceOrig."
   ],
   "id": "b61a4ebfb17f2356"
  },
  {
   "cell_type": "code",
   "id": "a05a1327548e1b16",
   "metadata": {
    "ExecuteTime": {
     "end_time": "2025-07-18T05:50:39.256490Z",
     "start_time": "2025-07-18T05:50:38.754570Z"
    }
   },
   "source": [
    "data.info()\n",
    "data.isnull().sum()"
   ],
   "outputs": [
    {
     "name": "stdout",
     "output_type": "stream",
     "text": [
      "<class 'pandas.core.frame.DataFrame'>\n",
      "RangeIndex: 6362620 entries, 0 to 6362619\n",
      "Data columns (total 11 columns):\n",
      " #   Column          Dtype  \n",
      "---  ------          -----  \n",
      " 0   step            int64  \n",
      " 1   type            object \n",
      " 2   amount          float64\n",
      " 3   nameOrig        object \n",
      " 4   oldbalanceOrg   float64\n",
      " 5   newbalanceOrig  float64\n",
      " 6   nameDest        object \n",
      " 7   oldbalanceDest  float64\n",
      " 8   newbalanceDest  float64\n",
      " 9   isFraud         int64  \n",
      " 10  isFlaggedFraud  int64  \n",
      "dtypes: float64(5), int64(3), object(3)\n",
      "memory usage: 534.0+ MB\n"
     ]
    },
    {
     "data": {
      "text/plain": [
       "step              0\n",
       "type              0\n",
       "amount            0\n",
       "nameOrig          0\n",
       "oldbalanceOrg     0\n",
       "newbalanceOrig    0\n",
       "nameDest          0\n",
       "oldbalanceDest    0\n",
       "newbalanceDest    0\n",
       "isFraud           0\n",
       "isFlaggedFraud    0\n",
       "dtype: int64"
      ]
     },
     "execution_count": 59,
     "metadata": {},
     "output_type": "execute_result"
    }
   ],
   "execution_count": 59
  },
  {
   "cell_type": "code",
   "id": "d2c959409f0573cf",
   "metadata": {
    "ExecuteTime": {
     "end_time": "2025-07-18T05:50:40.620506Z",
     "start_time": "2025-07-18T05:50:39.328979Z"
    }
   },
   "source": [
    "data.describe()"
   ],
   "outputs": [
    {
     "data": {
      "text/plain": [
       "               step        amount  oldbalanceOrg  newbalanceOrig  \\\n",
       "count  6.362620e+06  6.362620e+06   6.362620e+06    6.362620e+06   \n",
       "mean   2.433972e+02  1.798619e+05   8.338831e+05    8.551137e+05   \n",
       "std    1.423320e+02  6.038582e+05   2.888243e+06    2.924049e+06   \n",
       "min    1.000000e+00  0.000000e+00   0.000000e+00    0.000000e+00   \n",
       "25%    1.560000e+02  1.338957e+04   0.000000e+00    0.000000e+00   \n",
       "50%    2.390000e+02  7.487194e+04   1.420800e+04    0.000000e+00   \n",
       "75%    3.350000e+02  2.087215e+05   1.073152e+05    1.442584e+05   \n",
       "max    7.430000e+02  9.244552e+07   5.958504e+07    4.958504e+07   \n",
       "\n",
       "       oldbalanceDest  newbalanceDest       isFraud  isFlaggedFraud  \n",
       "count    6.362620e+06    6.362620e+06  6.362620e+06    6.362620e+06  \n",
       "mean     1.100702e+06    1.224996e+06  1.290820e-03    2.514687e-06  \n",
       "std      3.399180e+06    3.674129e+06  3.590480e-02    1.585775e-03  \n",
       "min      0.000000e+00    0.000000e+00  0.000000e+00    0.000000e+00  \n",
       "25%      0.000000e+00    0.000000e+00  0.000000e+00    0.000000e+00  \n",
       "50%      1.327057e+05    2.146614e+05  0.000000e+00    0.000000e+00  \n",
       "75%      9.430367e+05    1.111909e+06  0.000000e+00    0.000000e+00  \n",
       "max      3.560159e+08    3.561793e+08  1.000000e+00    1.000000e+00  "
      ],
      "text/html": [
       "<div>\n",
       "<style scoped>\n",
       "    .dataframe tbody tr th:only-of-type {\n",
       "        vertical-align: middle;\n",
       "    }\n",
       "\n",
       "    .dataframe tbody tr th {\n",
       "        vertical-align: top;\n",
       "    }\n",
       "\n",
       "    .dataframe thead th {\n",
       "        text-align: right;\n",
       "    }\n",
       "</style>\n",
       "<table border=\"1\" class=\"dataframe\">\n",
       "  <thead>\n",
       "    <tr style=\"text-align: right;\">\n",
       "      <th></th>\n",
       "      <th>step</th>\n",
       "      <th>amount</th>\n",
       "      <th>oldbalanceOrg</th>\n",
       "      <th>newbalanceOrig</th>\n",
       "      <th>oldbalanceDest</th>\n",
       "      <th>newbalanceDest</th>\n",
       "      <th>isFraud</th>\n",
       "      <th>isFlaggedFraud</th>\n",
       "    </tr>\n",
       "  </thead>\n",
       "  <tbody>\n",
       "    <tr>\n",
       "      <th>count</th>\n",
       "      <td>6.362620e+06</td>\n",
       "      <td>6.362620e+06</td>\n",
       "      <td>6.362620e+06</td>\n",
       "      <td>6.362620e+06</td>\n",
       "      <td>6.362620e+06</td>\n",
       "      <td>6.362620e+06</td>\n",
       "      <td>6.362620e+06</td>\n",
       "      <td>6.362620e+06</td>\n",
       "    </tr>\n",
       "    <tr>\n",
       "      <th>mean</th>\n",
       "      <td>2.433972e+02</td>\n",
       "      <td>1.798619e+05</td>\n",
       "      <td>8.338831e+05</td>\n",
       "      <td>8.551137e+05</td>\n",
       "      <td>1.100702e+06</td>\n",
       "      <td>1.224996e+06</td>\n",
       "      <td>1.290820e-03</td>\n",
       "      <td>2.514687e-06</td>\n",
       "    </tr>\n",
       "    <tr>\n",
       "      <th>std</th>\n",
       "      <td>1.423320e+02</td>\n",
       "      <td>6.038582e+05</td>\n",
       "      <td>2.888243e+06</td>\n",
       "      <td>2.924049e+06</td>\n",
       "      <td>3.399180e+06</td>\n",
       "      <td>3.674129e+06</td>\n",
       "      <td>3.590480e-02</td>\n",
       "      <td>1.585775e-03</td>\n",
       "    </tr>\n",
       "    <tr>\n",
       "      <th>min</th>\n",
       "      <td>1.000000e+00</td>\n",
       "      <td>0.000000e+00</td>\n",
       "      <td>0.000000e+00</td>\n",
       "      <td>0.000000e+00</td>\n",
       "      <td>0.000000e+00</td>\n",
       "      <td>0.000000e+00</td>\n",
       "      <td>0.000000e+00</td>\n",
       "      <td>0.000000e+00</td>\n",
       "    </tr>\n",
       "    <tr>\n",
       "      <th>25%</th>\n",
       "      <td>1.560000e+02</td>\n",
       "      <td>1.338957e+04</td>\n",
       "      <td>0.000000e+00</td>\n",
       "      <td>0.000000e+00</td>\n",
       "      <td>0.000000e+00</td>\n",
       "      <td>0.000000e+00</td>\n",
       "      <td>0.000000e+00</td>\n",
       "      <td>0.000000e+00</td>\n",
       "    </tr>\n",
       "    <tr>\n",
       "      <th>50%</th>\n",
       "      <td>2.390000e+02</td>\n",
       "      <td>7.487194e+04</td>\n",
       "      <td>1.420800e+04</td>\n",
       "      <td>0.000000e+00</td>\n",
       "      <td>1.327057e+05</td>\n",
       "      <td>2.146614e+05</td>\n",
       "      <td>0.000000e+00</td>\n",
       "      <td>0.000000e+00</td>\n",
       "    </tr>\n",
       "    <tr>\n",
       "      <th>75%</th>\n",
       "      <td>3.350000e+02</td>\n",
       "      <td>2.087215e+05</td>\n",
       "      <td>1.073152e+05</td>\n",
       "      <td>1.442584e+05</td>\n",
       "      <td>9.430367e+05</td>\n",
       "      <td>1.111909e+06</td>\n",
       "      <td>0.000000e+00</td>\n",
       "      <td>0.000000e+00</td>\n",
       "    </tr>\n",
       "    <tr>\n",
       "      <th>max</th>\n",
       "      <td>7.430000e+02</td>\n",
       "      <td>9.244552e+07</td>\n",
       "      <td>5.958504e+07</td>\n",
       "      <td>4.958504e+07</td>\n",
       "      <td>3.560159e+08</td>\n",
       "      <td>3.561793e+08</td>\n",
       "      <td>1.000000e+00</td>\n",
       "      <td>1.000000e+00</td>\n",
       "    </tr>\n",
       "  </tbody>\n",
       "</table>\n",
       "</div>"
      ]
     },
     "execution_count": 60,
     "metadata": {},
     "output_type": "execute_result"
    }
   ],
   "execution_count": 60
  },
  {
   "cell_type": "code",
   "id": "60d45ca541f479a3",
   "metadata": {
    "ExecuteTime": {
     "end_time": "2025-07-18T05:50:40.855802Z",
     "start_time": "2025-07-18T05:50:40.709124Z"
    }
   },
   "source": [
    "data = data.drop(['nameOrig', 'nameDest'], axis=1)"
   ],
   "outputs": [],
   "execution_count": 61
  },
  {
   "cell_type": "code",
   "id": "fa72348ef17e3e2",
   "metadata": {
    "ExecuteTime": {
     "end_time": "2025-07-18T05:50:41.494900Z",
     "start_time": "2025-07-18T05:50:40.920430Z"
    }
   },
   "source": [
    "data = pd.get_dummies(data, columns=['type'], prefix='type', drop_first=True)\n",
    "print(data.head())"
   ],
   "outputs": [
    {
     "name": "stdout",
     "output_type": "stream",
     "text": [
      "   step    amount  oldbalanceOrg  newbalanceOrig  oldbalanceDest  \\\n",
      "0     1   9839.64       170136.0       160296.36             0.0   \n",
      "1     1   1864.28        21249.0        19384.72             0.0   \n",
      "2     1    181.00          181.0            0.00             0.0   \n",
      "3     1    181.00          181.0            0.00         21182.0   \n",
      "4     1  11668.14        41554.0        29885.86             0.0   \n",
      "\n",
      "   newbalanceDest  isFraud  isFlaggedFraud  type_CASH_OUT  type_DEBIT  \\\n",
      "0             0.0        0               0          False       False   \n",
      "1             0.0        0               0          False       False   \n",
      "2             0.0        1               0          False       False   \n",
      "3             0.0        1               0           True       False   \n",
      "4             0.0        0               0          False       False   \n",
      "\n",
      "   type_PAYMENT  type_TRANSFER  \n",
      "0          True          False  \n",
      "1          True          False  \n",
      "2         False           True  \n",
      "3         False          False  \n",
      "4          True          False  \n"
     ]
    }
   ],
   "execution_count": 62
  },
  {
   "metadata": {},
   "cell_type": "markdown",
   "source": [
    "**Q2. Describe your fraud detection model in elaboration.\n",
    "Answer:**\n",
    "\n",
    "The final model chosen is a Random Forest Classifier. This model was selected for the following reasons:\n",
    "\n",
    "**High Performance**: It is a powerful ensemble model known for its high accuracy and robustness.\n",
    "\n",
    "**Handles Non-linearity**: It can capture complex, non-linear patterns in the data, which is essential as fraud patterns are rarely simple.\n",
    "\n",
    "**Handles Imbalance:** To address the severe class imbalance in the dataset (only 0.13% of transactions were fraudulent), the model was trained on a balanced version of the training data. This was achieved using the Random Under-Sampling (RUS) technique, which reduces the number of non-fraudulent samples to match the number of fraudulent ones, preventing the model from being biased."
   ],
   "id": "ac3e9e4696f1ebf5"
  },
  {
   "cell_type": "code",
   "id": "ad2710d84223387d",
   "metadata": {
    "ExecuteTime": {
     "end_time": "2025-07-18T05:50:41.647858Z",
     "start_time": "2025-07-18T05:50:41.531211Z"
    }
   },
   "source": [
    "from sklearn.model_selection import train_test_split\n",
    "from sklearn.preprocessing import StandardScaler\n",
    "X = data.drop('isFraud', axis=1)\n",
    "y = data['isFraud']"
   ],
   "outputs": [],
   "execution_count": 63
  },
  {
   "cell_type": "code",
   "id": "b43c53a90c6af44a",
   "metadata": {
    "ExecuteTime": {
     "end_time": "2025-07-18T05:50:44.401295Z",
     "start_time": "2025-07-18T05:50:41.665883Z"
    }
   },
   "source": [
    "X_train, X_test, y_train, y_test = train_test_split(\n",
    "    X, y, test_size=0.3, random_state=42, stratify=y\n",
    ")"
   ],
   "outputs": [],
   "execution_count": 64
  },
  {
   "cell_type": "code",
   "id": "27912dee023b0142",
   "metadata": {
    "ExecuteTime": {
     "end_time": "2025-07-18T05:50:46.763900Z",
     "start_time": "2025-07-18T05:50:44.421692Z"
    }
   },
   "source": [
    "scaler = StandardScaler()\n",
    "X_train = scaler.fit_transform(X_train)\n",
    "X_test = scaler.transform(X_test)"
   ],
   "outputs": [],
   "execution_count": 65
  },
  {
   "metadata": {
    "ExecuteTime": {
     "end_time": "2025-07-18T05:50:47.238017Z",
     "start_time": "2025-07-18T05:50:46.788434Z"
    }
   },
   "cell_type": "code",
   "source": [
    "from imblearn.under_sampling import RandomUnderSampler\n",
    "rus = RandomUnderSampler(random_state=42)\n",
    "X_train_resampled, y_train_resampled = rus.fit_resample(X_train, y_train)"
   ],
   "id": "47d075bfb35c04f6",
   "outputs": [],
   "execution_count": 66
  },
  {
   "metadata": {},
   "cell_type": "markdown",
   "source": [
    "**Q3. How did you select variables to be included in the model?\n",
    "Answer:**\n",
    "\n",
    "Initially, all relevant features were included in the model after cleaning and preprocessing. The variable selection was then performed implicitly by the Random Forest model itself. The model calculates a feature importance score for each variable, which tells us how much that variable contributed to making accurate predictions. The features with the highest scores are the most important predictors of fraud."
   ],
   "id": "c90299d26b0c0423"
  },
  {
   "metadata": {},
   "cell_type": "markdown",
   "source": [
    "**Q4. Demonstrate the performance of the model by using best set of tools.\n",
    "Answer**:\n",
    "\n",
    "The model's performance was evaluated using a Classification Report and a Confusion Matrix.\n",
    "\n",
    "**Classification Report:** The final model achieved a Recall of 99% for the fraud class. This is the most important metric for this problem, as it means the model successfully identified 99% of all actual fraud cases. The Precision was 9%, which is a significant improvement over initial models.\n",
    "\n",
    "**Confusion Matrix:** The confusion matrix visually confirms the high recall, showing that the model only missed 13 fraudulent transactions (False Negatives) while correctly identifying 2,451 of them (True Positives)."
   ],
   "id": "f413c7efe9dea512"
  },
  {
   "cell_type": "code",
   "id": "6231e164-0b02-48b6-9c0b-5cb0a692e306",
   "metadata": {
    "ExecuteTime": {
     "end_time": "2025-07-18T05:50:49.347524Z",
     "start_time": "2025-07-18T05:50:47.256265Z"
    }
   },
   "source": [
    "from sklearn.ensemble import RandomForestClassifier\n",
    "from sklearn.metrics import classification_report, confusion_matrix\n",
    "import seaborn as sns\n",
    "import matplotlib.pyplot as plt\n",
    "\n",
    "print(\"Training a Random Forest model...\")\n",
    "rf_model = RandomForestClassifier(n_estimators=100, random_state=42, n_jobs=-1)\n",
    "rf_model.fit(X_train_resampled, y_train_resampled)\n",
    "print(\"Model training complete.\")\n",
    "\n",
    "print(\"Making predictions...\")\n",
    "y_pred_rf = rf_model.predict(X_test)\n",
    "\n",
    "print(\"\\n--- Random Forest Model Performance ---\")\n",
    "print(\"\\nClassification Report:\\n\")\n",
    "print(classification_report(y_test, y_pred_rf))\n",
    "print(\"\\nConfusion Matrix:\")\n",
    "cm_rf = confusion_matrix(y_test, y_pred_rf)\n",
    "sns.heatmap(cm_rf, annot=True, fmt='d', cmap='Greens')\n",
    "plt.xlabel('Predicted')\n",
    "plt.ylabel('Actual')\n",
    "plt.title('Random Forest Confusion Matrix')\n",
    "plt.show()"
   ],
   "outputs": [
    {
     "name": "stdout",
     "output_type": "stream",
     "text": [
      "Training a Random Forest model...\n",
      "Model training complete.\n",
      "Making predictions...\n",
      "\n",
      "--- Random Forest Model Performance ---\n",
      "\n",
      "Classification Report:\n",
      "\n",
      "              precision    recall  f1-score   support\n",
      "\n",
      "           0       1.00      0.99      0.99   1906322\n",
      "           1       0.09      0.99      0.16      2464\n",
      "\n",
      "    accuracy                           0.99   1908786\n",
      "   macro avg       0.54      0.99      0.58   1908786\n",
      "weighted avg       1.00      0.99      0.99   1908786\n",
      "\n",
      "\n",
      "Confusion Matrix:\n"
     ]
    },
    {
     "data": {
      "text/plain": [
       "<Figure size 640x480 with 2 Axes>"
      ],
      "image/png": "[encoded data removed]"
     },
     "metadata": {},
     "output_type": "display_data"
    }
   ],
   "execution_count": 67
  },
  {
   "metadata": {},
   "cell_type": "markdown",
   "source": [
    "**Q5. What are the key factors that predict fraudulent customer?\n",
    "Answer:**\n",
    "\n",
    "According to the model's feature importance analysis, the top 5 factors that predict fraud are:\n",
    "\n",
    "oldbalanceOrg (Sender's balance before the transaction)\n",
    "\n",
    "newbalanceOrig (Sender's balance after the transaction)\n",
    "\n",
    "amount (The transaction amount)\n",
    "\n",
    "type_TRANSFER (The transaction being a 'TRANSFER' type)\n",
    "\n",
    "newbalanceDest (Recipient's balance after the transaction)"
   ],
   "id": "9663bb4afef43496"
  },
  {
   "metadata": {
    "ExecuteTime": {
     "end_time": "2025-07-18T05:50:49.483587Z",
     "start_time": "2025-07-18T05:50:49.364774Z"
    }
   },
   "cell_type": "code",
   "source": [
    "feature_names = X.columns\n",
    "importances = pd.Series(rf_model.feature_importances_, index=feature_names)\n",
    "sorted_importances = importances.sort_values(ascending=False)\n",
    "\n",
    "plt.figure(figsize=(10, 6))\n",
    "sns.barplot(x=sorted_importances, y=sorted_importances.index)\n",
    "plt.xlabel('Feature Importance Score')\n",
    "plt.ylabel('Features')\n",
    "plt.title('Top Feature Importances')\n",
    "plt.show()\n",
    "print(\"Top 5 most important features for predicting fraud:\")\n",
    "print(sorted_importances.head(5))"
   ],
   "id": "8198013e98ccf57a",
   "outputs": [
    {
     "data": {
      "text/plain": [
       "<Figure size 1000x600 with 1 Axes>"
      ],
      "image/png": "[encoded data removed]"
     },
     "metadata": {},
     "output_type": "display_data"
    },
    {
     "name": "stdout",
     "output_type": "stream",
     "text": [
      "Top 5 most important features for predicting fraud:\n",
      "oldbalanceOrg     0.319373\n",
      "newbalanceOrig    0.167326\n",
      "amount            0.156149\n",
      "type_TRANSFER     0.084881\n",
      "newbalanceDest    0.063866\n",
      "dtype: float64\n"
     ]
    }
   ],
   "execution_count": 68
  },
  {
   "metadata": {
    "ExecuteTime": {
     "end_time": "2025-07-18T05:50:49.517054Z",
     "start_time": "2025-07-18T05:50:49.508871Z"
    }
   },
   "cell_type": "code",
   "source": [
    "import joblib\n",
    "model_filename = 'fraud_detection_model.joblib'\n",
    "scaler_filename = 'scaler.joblib'\n",
    "print(f\"Model saved successfully as '{model_filename}'\")\n",
    "joblib.dump(scaler, scaler_filename)\n",
    "print(f\"Scaler saved successfully as '{scaler_filename}'\")"
   ],
   "id": "6ca361be5fa879a",
   "outputs": [
    {
     "name": "stdout",
     "output_type": "stream",
     "text": [
      "Model saved successfully as 'fraud_detection_model.joblib'\n",
      "Scaler saved successfully as 'scaler.joblib'\n"
     ]
    }
   ],
   "execution_count": 69
  },
  {
   "metadata": {},
   "cell_type": "markdown",
   "source": [
    "**Q6. Do these factors make sense? If yes, How? If not, How not?\n",
    "Answer:**\n",
    "\n",
    "Yes, these factors make perfect logical sense. They describe a clear \"account drain\" fraud pattern:\n",
    "\n",
    "A fraudster takes over an account and tries to transfer an amount that is very close to the oldbalanceOrg.\n",
    "\n",
    "This results in the newbalanceOrig becoming zero or close to zero.\n",
    "\n",
    "The model also learned that TRANSFER is the most common method for this, as it's a direct way to move money out of the system.\n",
    "\n",
    "**Q7. What kind of prevention should be adopted while company update its infrastructure?\n",
    "Answer:High-Risk Transaction**\n",
    "\n",
    "Based on the model's insights, the following prevention rules should be implemented:\n",
    "\n",
    "**Flag:** Automatically flag any transaction of type 'TRANSFER' for manual review if the amount is greater than 95% of the oldbalanceOrg.\n",
    "\n",
    "**Velocity Check:** Flag accounts making unusually large transfers relative to their historical activity.\n",
    "\n",
    "**New Recipient Scrutiny:** Place temporary limits or require additional verification for large incoming transfers to accounts (newbalanceDest) that are very new or have had a zero balance for a long time.\n",
    "\n",
    "**Q8. Assuming these actions have been implemented, how would you determine if they work?\n",
    "Answer:**\n",
    "\n",
    "To determine if the new prevention measures are effective, an A/B test should be conducted:\n",
    "\n",
    "**Group A (Control):** A segment of users operating under the old system (model detection only).\n",
    "\n",
    "**Group B (Test):** A segment of users subject to the new rule-based flags.\n",
    "\n",
    "We would then measure and compare the following KPIs over 3-6 months:\n",
    "\n",
    "**Fraud Rate:** The number and value of successful fraudulent transactions in each group. We expect this to be significantly lower in Group B.\n",
    "\n",
    "**False Positive Rate:** The number of legitimate transactions blocked or delayed by the new rules. The goal is to minimize this to avoid customer friction.\n",
    "\n",
    "**Customer Support Tickets:** Track complaints related to blocked transactions to measure customer impact.\n",
    "\n",
    "A successful implementation would show a marked decrease in the fraud rate without a significant negative impact on customer satisfaction."
   ],
   "id": "4ea67be68bdd74e8"
  },
  {
   "metadata": {
    "ExecuteTime": {
     "end_time": "2025-07-18T05:50:49.546286Z",
     "start_time": "2025-07-18T05:50:49.542110Z"
    }
   },
   "cell_type": "code",
   "source": "",
   "id": "abc052084af59e92",
   "outputs": [],
   "execution_count": null
  }
 ],
 "metadata": {
  "kernelspec": {
   "display_name": "Python 3 (ipykernel)",
   "language": "python",
   "name": "python3"
  },
  "language_info": {
   "codemirror_mode": {
    "name": "ipython",
    "version": 3
   },
   "file_extension": ".py",
   "mimetype": "text/x-python",
   "name": "python",
   "nbconvert_exporter": "python",
   "pygments_lexer": "ipython3",
   "version": "3.12.10"
  }
 },
 "nbformat": 4,
 "nbformat_minor": 5
}
